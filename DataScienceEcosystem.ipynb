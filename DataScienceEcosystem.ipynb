{
 "cells": [
  {
   "cell_type": "markdown",
   "id": "23e329ea-c9f2-48ac-a1c5-2c86d23ef930",
   "metadata": {},
   "source": [
    "# Data Science Tools and Ecosystem"
   ]
  },
  {
   "cell_type": "markdown",
   "id": "4748ae14-ab79-40ed-b41f-4128e237b1ac",
   "metadata": {},
   "source": [
    "In this notebook, Data Science Tools and Ecosystem are summarized."
   ]
  },
  {
   "cell_type": "markdown",
   "id": "0aa2f8de-9966-4a6e-9a2a-cc75349ca9dc",
   "metadata": {},
   "source": [
    "Some of the popular languages that Data Scientists use are:\n",
    "1. Python\n",
    "2. R\n",
    "3. Java"
   ]
  },
  {
   "cell_type": "markdown",
   "id": "20cfe53d-c597-4c9b-a571-2d828ec8ffa2",
   "metadata": {},
   "source": [
    "Some of the commonly used libraries used by Data Scientists include:\n",
    "1. numpy\n",
    "2. matplotlib\n",
    "3. pandas"
   ]
  },
  {
   "cell_type": "markdown",
   "id": "9bb7f5f5-8173-4806-aeaa-32993744b2da",
   "metadata": {},
   "source": [
    "|Data Science Tools |\n",
    "|--|\n",
    "|Jypyter Notebook|\n",
    "|RStudio|\n",
    "|Visual Studio Code|"
   ]
  },
  {
   "cell_type": "markdown",
   "id": "564ae466-3fb6-48bd-b1c6-a73d9625d5dd",
   "metadata": {},
   "source": [
    "### Below are a few examples of evaluating arithmetic expressions in Python"
   ]
  },
  {
   "cell_type": "code",
   "execution_count": 4,
   "id": "01f8ad24-a5ea-45d1-9294-ef0b6cab8520",
   "metadata": {},
   "outputs": [
    {
     "data": {
      "text/plain": [
       "17"
      ]
     },
     "execution_count": 4,
     "metadata": {},
     "output_type": "execute_result"
    }
   ],
   "source": [
    "# This a simple arithmetic expression to \n",
    "# mutiply then add integers\n",
    "(3*4)+5"
   ]
  },
  {
   "cell_type": "code",
   "execution_count": 6,
   "id": "865ba17c-e511-4e53-83e9-26ea84b3ecc7",
   "metadata": {},
   "outputs": [
    {
     "data": {
      "text/plain": [
       "3.3333333333333335"
      ]
     },
     "execution_count": 6,
     "metadata": {},
     "output_type": "execute_result"
    }
   ],
   "source": [
    "#This will convert 200 minutes to hours by diving by 60\n",
    "200 / 60"
   ]
  },
  {
   "cell_type": "markdown",
   "id": "d0efc803-7d90-46dc-a8b7-f27314daccd1",
   "metadata": {},
   "source": [
    "### **Objectives:**\n",
    "* list popular languages for Data Science\n",
    "* list commonly used libraries by Data Science\n",
    "* list Data science Tools\n",
    "* display evalution of arithmetic expressions in python"
   ]
  },
  {
   "cell_type": "markdown",
   "id": "e8a214ef-f20c-4128-9fa8-95bd63192d2f",
   "metadata": {},
   "source": [
    "## Author\n",
    "Andrew Dmitrievsky"
   ]
  },
  {
   "cell_type": "code",
   "execution_count": null,
   "id": "57cd90ae-8110-4f93-876d-a0ff8b8d0614",
   "metadata": {},
   "outputs": [],
   "source": []
  }
 ],
 "metadata": {
  "kernelspec": {
   "display_name": "Python 3 (ipykernel)",
   "language": "python",
   "name": "python3"
  },
  "language_info": {
   "codemirror_mode": {
    "name": "ipython",
    "version": 3
   },
   "file_extension": ".py",
   "mimetype": "text/x-python",
   "name": "python",
   "nbconvert_exporter": "python",
   "pygments_lexer": "ipython3",
   "version": "3.11.9"
  }
 },
 "nbformat": 4,
 "nbformat_minor": 5
}
